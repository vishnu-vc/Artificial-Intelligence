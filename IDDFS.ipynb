{
  "nbformat": 4,
  "nbformat_minor": 0,
  "metadata": {
    "colab": {
      "provenance": []
    },
    "kernelspec": {
      "name": "python3",
      "display_name": "Python 3"
    },
    "language_info": {
      "name": "python"
    }
  },
  "cells": [
    {
      "cell_type": "code",
      "execution_count": null,
      "metadata": {
        "colab": {
          "base_uri": "https://localhost:8080/"
        },
        "id": "AOdKmvuk8iLn",
        "outputId": "9e7208c8-7223-4656-c0dd-8f3033b42fc5"
      },
      "outputs": [
        {
          "output_type": "stream",
          "name": "stdout",
          "text": [
            "1\n",
            "1\n",
            "2\n",
            "3\n",
            "1\n",
            "2\n",
            "4\n",
            "3\n",
            "5\n",
            "6\n",
            "1\n",
            "2\n",
            "4\n",
            "7\n"
          ]
        },
        {
          "output_type": "execute_result",
          "data": {
            "text/plain": [
              "True"
            ]
          },
          "metadata": {},
          "execution_count": 3
        }
      ],
      "source": [
        "graph = {\n",
        "\t1 : [2, 3],\n",
        "\t2 : [4],\n",
        "\t3 : [5, 6],\n",
        "\t4 : [7],\n",
        "}\n",
        "\n",
        "\n",
        "def IDS(start, end):\n",
        "\n",
        "\tdepth = 0\n",
        "\twhile True:\n",
        "\n",
        "\t\tresult = DLS(start, end, depth)\n",
        "\t\tif result == end:\n",
        "\t\t\treturn True\n",
        "\t\tdepth = depth + 1\n",
        "\n",
        "def DLS(node, end, depth):\n",
        "\n",
        "\tprint (node)\n",
        "\n",
        "\tif depth == 0 and node == end:\n",
        "\t\treturn node\n",
        "\telif depth > 0:\n",
        "\t\tfor i in graph[node]:\n",
        "\t\t\tTest = DLS(i, end, depth - 1)\n",
        "\t\t\tif Test == end:\n",
        "\t\t\t\treturn end\n",
        "\n",
        "IDS(1, 7)"
      ]
    }
  ]
}