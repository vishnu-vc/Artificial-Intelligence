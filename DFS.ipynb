{
  "nbformat": 4,
  "nbformat_minor": 0,
  "metadata": {
    "colab": {
      "provenance": []
    },
    "kernelspec": {
      "name": "python3",
      "display_name": "Python 3"
    },
    "language_info": {
      "name": "python"
    }
  },
  "cells": [
    {
      "cell_type": "code",
      "execution_count": null,
      "metadata": {
        "colab": {
          "base_uri": "https://localhost:8080/"
        },
        "id": "UN3EfwwU2Yfc",
        "outputId": "27e8f396-33eb-4522-f71d-af2574b16fe3"
      },
      "outputs": [
        {
          "output_type": "stream",
          "name": "stdout",
          "text": [
            "<class 'set'>\n",
            "A\n",
            "B\n",
            "D\n",
            "E\n",
            "C\n",
            "F\n"
          ]
        }
      ],
      "source": [
        "\n",
        "tree = {\n",
        "    'A' : ['B','C'],\n",
        "    'B' : ['D', 'E'],\n",
        "    'C' : ['F'],\n",
        "    'D' : [],\n",
        "    'E' : [],\n",
        "    'F' : []\n",
        "}\n",
        "\n",
        "visited = set() # used to track visited nodes\n",
        "\n",
        "def dfs(visited, tree, node):\n",
        "    if node not in visited:\n",
        "        print (node)\n",
        "        visited.add(node)\n",
        "        #print(visited)\n",
        "        #n=int(input())\n",
        "        for neighbour in tree[node]:\n",
        "            #print(neighbour)\n",
        "            dfs(visited, tree, neighbour)\n",
        "\n",
        "\n",
        "#starting from A\n",
        "dfs(visited, tree, 'A')"
      ]
    },
    {
      "cell_type": "code",
      "source": [
        "#Dictionary is used to create the tree\n",
        "tree = {\n",
        "    'A' : ['B','C'],\n",
        "    'B' : ['D', 'E'],\n",
        "    'C' : ['F'],\n",
        "    'D' : [],\n",
        "    'E' : [],\n",
        "    'F' : []\n",
        "}\n",
        "\n",
        "\n",
        "visited = [] # List for visited nodes.\n",
        "queue = []     #Initialize a queue\n",
        "\n",
        "def bfs(visited, tree, node): #function for BFS\n",
        "  visited.append(node)\n",
        "  queue.append(node)\n",
        "\n",
        "  while queue:          # loop to visit each node\n",
        "    m = queue.pop(0)\n",
        "\n",
        "    for neighbour in tree[m]:\n",
        "      if neighbour not in visited:\n",
        "        visited.append(neighbour)\n",
        "        queue.append(neighbour)\n",
        "\n",
        "\n",
        "#starting from A\n",
        "bfs(visited, tree, 'A')\n",
        "for i in visited:\n",
        "  print(i)"
      ],
      "metadata": {
        "colab": {
          "base_uri": "https://localhost:8080/"
        },
        "id": "1XTFNFubpNrN",
        "outputId": "ab831811-b260-4444-8ff5-48b249af6966"
      },
      "execution_count": null,
      "outputs": [
        {
          "output_type": "stream",
          "name": "stdout",
          "text": [
            "A\n",
            "B\n",
            "C\n",
            "D\n",
            "E\n",
            "F\n"
          ]
        }
      ]
    }
  ]
}